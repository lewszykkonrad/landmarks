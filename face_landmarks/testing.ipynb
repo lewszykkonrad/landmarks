{
 "cells": [
  {
   "cell_type": "code",
   "execution_count": 15,
   "metadata": {},
   "outputs": [],
   "source": [
    "import numpy as np\n",
    "import pandas as pd\n",
    "import random\n",
    "import tkinter as tk\n",
    "from PIL import Image, ImageTk"
   ]
  },
  {
   "cell_type": "code",
   "execution_count": 4,
   "metadata": {},
   "outputs": [
    {
     "data": {
      "text/plain": [
       "[3, 5]"
      ]
     },
     "execution_count": 4,
     "metadata": {},
     "output_type": "execute_result"
    }
   ],
   "source": [
    "sequence = [1,2,3,4,5]\n",
    "random.sample(sequence, 2)"
   ]
  },
  {
   "cell_type": "code",
   "execution_count": 13,
   "metadata": {},
   "outputs": [
    {
     "name": "stdout",
     "output_type": "stream",
     "text": [
      "['the book', 'the lion', 'the sahara']\n"
     ]
    }
   ],
   "source": [
    "sequence = [\"book\", \"lion\", \"sahara\"]\n",
    "sequence = [\"the \" + x for x in sequence] \n",
    "print(sequence)"
   ]
  },
  {
   "cell_type": "code",
   "execution_count": 60,
   "metadata": {},
   "outputs": [
    {
     "name": "stderr",
     "output_type": "stream",
     "text": [
      "Exception in Tkinter callback\n",
      "Traceback (most recent call last):\n",
      "  File \"c:\\Users\\lewsz\\anaconda3\\lib\\tkinter\\__init__.py\", line 1892, in __call__\n",
      "    return self.func(*args)\n",
      "  File \"C:\\Users\\lewsz\\AppData\\Local\\Temp/ipykernel_25904/2105271849.py\", line 46, in <lambda>\n",
      "    command = lambda: [on_click(1), change_pic(value), update_value],\n",
      "  File \"C:\\Users\\lewsz\\AppData\\Local\\Temp/ipykernel_25904/2105271849.py\", line 26, in change_pic\n",
      "    photo = ImageTk.PhotoImage(value)\n",
      "  File \"c:\\Users\\lewsz\\anaconda3\\lib\\site-packages\\PIL\\ImageTk.py\", line 108, in __init__\n",
      "    mode = Image.getmodebase(mode)\n",
      "  File \"c:\\Users\\lewsz\\anaconda3\\lib\\site-packages\\PIL\\Image.py\", line 294, in getmodebase\n",
      "    return ImageMode.getmode(mode).basemode\n",
      "  File \"c:\\Users\\lewsz\\anaconda3\\lib\\site-packages\\PIL\\ImageMode.py\", line 74, in getmode\n",
      "    return _modes[mode]\n",
      "KeyError: 0\n",
      "Exception in Tkinter callback\n",
      "Exception ignored in: <function PhotoImage.__del__ at 0x000001F5E56A60D0>\n",
      "Traceback (most recent call last):\n",
      "  File \"c:\\Users\\lewsz\\anaconda3\\lib\\site-packages\\PIL\\ImageTk.py\", line 118, in __del__\n",
      "    name = self.__photo.name\n",
      "AttributeError: 'PhotoImage' object has no attribute '_PhotoImage__photo'\n",
      "Traceback (most recent call last):\n",
      "  File \"c:\\Users\\lewsz\\anaconda3\\lib\\tkinter\\__init__.py\", line 1892, in __call__\n",
      "    return self.func(*args)\n",
      "  File \"C:\\Users\\lewsz\\AppData\\Local\\Temp/ipykernel_25904/2105271849.py\", line 46, in <lambda>\n",
      "    command = lambda: [on_click(1), change_pic(value), update_value],\n",
      "  File \"C:\\Users\\lewsz\\AppData\\Local\\Temp/ipykernel_25904/2105271849.py\", line 26, in change_pic\n",
      "    photo = ImageTk.PhotoImage(value)\n",
      "  File \"c:\\Users\\lewsz\\anaconda3\\lib\\site-packages\\PIL\\ImageTk.py\", line 108, in __init__\n",
      "    mode = Image.getmodebase(mode)\n",
      "  File \"c:\\Users\\lewsz\\anaconda3\\lib\\site-packages\\PIL\\Image.py\", line 294, in getmodebase\n",
      "    return ImageMode.getmode(mode).basemode\n",
      "  File \"c:\\Users\\lewsz\\anaconda3\\lib\\site-packages\\PIL\\ImageMode.py\", line 74, in getmode\n",
      "    return _modes[mode]\n",
      "KeyError: 0\n",
      "Exception in Tkinter callback\n",
      "Exception ignored in: <function PhotoImage.__del__ at 0x000001F5E56A60D0>\n",
      "Traceback (most recent call last):\n",
      "  File \"c:\\Users\\lewsz\\anaconda3\\lib\\site-packages\\PIL\\ImageTk.py\", line 118, in __del__\n",
      "    name = self.__photo.name\n",
      "AttributeError: 'PhotoImage' object has no attribute '_PhotoImage__photo'\n",
      "Traceback (most recent call last):\n",
      "  File \"c:\\Users\\lewsz\\anaconda3\\lib\\tkinter\\__init__.py\", line 1892, in __call__\n",
      "    return self.func(*args)\n",
      "  File \"C:\\Users\\lewsz\\AppData\\Local\\Temp/ipykernel_25904/2105271849.py\", line 66, in <lambda>\n",
      "    command = lambda:[on_click(3), change_pic(value)],\n",
      "  File \"C:\\Users\\lewsz\\AppData\\Local\\Temp/ipykernel_25904/2105271849.py\", line 26, in change_pic\n",
      "    photo = ImageTk.PhotoImage(value)\n",
      "  File \"c:\\Users\\lewsz\\anaconda3\\lib\\site-packages\\PIL\\ImageTk.py\", line 108, in __init__\n",
      "    mode = Image.getmodebase(mode)\n",
      "  File \"c:\\Users\\lewsz\\anaconda3\\lib\\site-packages\\PIL\\Image.py\", line 294, in getmodebase\n",
      "    return ImageMode.getmode(mode).basemode\n",
      "  File \"c:\\Users\\lewsz\\anaconda3\\lib\\site-packages\\PIL\\ImageMode.py\", line 74, in getmode\n",
      "    return _modes[mode]\n",
      "KeyError: 0\n",
      "Exception in Tkinter callback\n",
      "Exception ignored in: <function PhotoImage.__del__ at 0x000001F5E56A60D0>\n",
      "Traceback (most recent call last):\n",
      "  File \"c:\\Users\\lewsz\\anaconda3\\lib\\site-packages\\PIL\\ImageTk.py\", line 118, in __del__\n",
      "    name = self.__photo.name\n",
      "AttributeError: 'PhotoImage' object has no attribute '_PhotoImage__photo'\n",
      "Traceback (most recent call last):\n",
      "  File \"c:\\Users\\lewsz\\anaconda3\\lib\\tkinter\\__init__.py\", line 1892, in __call__\n",
      "    return self.func(*args)\n",
      "  File \"C:\\Users\\lewsz\\AppData\\Local\\Temp/ipykernel_25904/2105271849.py\", line 56, in <lambda>\n",
      "    command = lambda:[on_click(2), change_pic(value)],\n",
      "  File \"C:\\Users\\lewsz\\AppData\\Local\\Temp/ipykernel_25904/2105271849.py\", line 26, in change_pic\n",
      "    photo = ImageTk.PhotoImage(value)\n",
      "  File \"c:\\Users\\lewsz\\anaconda3\\lib\\site-packages\\PIL\\ImageTk.py\", line 108, in __init__\n",
      "    mode = Image.getmodebase(mode)\n",
      "  File \"c:\\Users\\lewsz\\anaconda3\\lib\\site-packages\\PIL\\Image.py\", line 294, in getmodebase\n",
      "    return ImageMode.getmode(mode).basemode\n",
      "  File \"c:\\Users\\lewsz\\anaconda3\\lib\\site-packages\\PIL\\ImageMode.py\", line 74, in getmode\n",
      "    return _modes[mode]\n",
      "KeyError: 0\n",
      "Exception in Tkinter callback\n",
      "Exception ignored in: <function PhotoImage.__del__ at 0x000001F5E56A60D0>\n",
      "Traceback (most recent call last):\n",
      "  File \"c:\\Users\\lewsz\\anaconda3\\lib\\site-packages\\PIL\\ImageTk.py\", line 118, in __del__\n",
      "    name = self.__photo.name\n",
      "AttributeError: 'PhotoImage' object has no attribute '_PhotoImage__photo'\n",
      "Traceback (most recent call last):\n",
      "  File \"c:\\Users\\lewsz\\anaconda3\\lib\\tkinter\\__init__.py\", line 1892, in __call__\n",
      "    return self.func(*args)\n",
      "  File \"C:\\Users\\lewsz\\AppData\\Local\\Temp/ipykernel_25904/2105271849.py\", line 66, in <lambda>\n",
      "    command = lambda:[on_click(3), change_pic(value)],\n",
      "  File \"C:\\Users\\lewsz\\AppData\\Local\\Temp/ipykernel_25904/2105271849.py\", line 26, in change_pic\n",
      "    photo = ImageTk.PhotoImage(value)\n",
      "  File \"c:\\Users\\lewsz\\anaconda3\\lib\\site-packages\\PIL\\ImageTk.py\", line 108, in __init__\n",
      "    mode = Image.getmodebase(mode)\n",
      "  File \"c:\\Users\\lewsz\\anaconda3\\lib\\site-packages\\PIL\\Image.py\", line 294, in getmodebase\n",
      "    return ImageMode.getmode(mode).basemode\n",
      "  File \"c:\\Users\\lewsz\\anaconda3\\lib\\site-packages\\PIL\\ImageMode.py\", line 74, in getmode\n",
      "    return _modes[mode]\n",
      "KeyError: 0\n"
     ]
    }
   ],
   "source": [
    "#list for storing the ratings user has given\n",
    "sequence = []\n",
    "\n",
    "#a variable used for iteration through different images\n",
    "value = 0\n",
    "\n",
    "choices = random.sample(os.listdir(\"../../faces/high_quality_dataset/hot\"), 10)\n",
    "choices = [\"../../faces/high_quality_dataset/hot/\" + choice for choice in choices]\n",
    "\n",
    "images = [Image.open(x) for x in choices]\n",
    "images = [x.resize((400,500)) for x in images]\n",
    "\n",
    "\n",
    "window = tk.Tk()\n",
    "value = 0\n",
    "\n",
    "test_image = ImageTk.PhotoImage(images[0])\n",
    "\n",
    "frame_a = tk.Frame()\n",
    "frame_b = tk.Frame()\n",
    "\n",
    "def on_click(value):\n",
    "    sequence.append(value)\n",
    "\n",
    "def change_pic(value):\n",
    " photo = ImageTk.PhotoImage(value)\n",
    " picture_placeholder.configure(image=photo)\n",
    " picture_placeholder.image = photo\n",
    " \n",
    " print(\"updated\")\n",
    "\n",
    "def update_value():\n",
    "    value = value + 1\n",
    "\n",
    "picture_placeholder = tk.Label(\n",
    "    master = frame_a,\n",
    "    image = test_image,\n",
    "    text = \"Picture\",\n",
    "    foreground= \"white\",\n",
    "    background=\"black\"\n",
    "    )\n",
    "picture_placeholder.pack()\n",
    "\n",
    "button_1 = tk.Button(\n",
    "    master = frame_b, \n",
    "    command = lambda: [on_click(1), change_pic(value), update_value],\n",
    "    text = \"1\",\n",
    "    width=25,\n",
    "    height=5,\n",
    "    foreground=\"white\",\n",
    "    background=\"black\")\n",
    "button_1.grid(row = 0, column=0)\n",
    "\n",
    "button_2 = tk.Button(\n",
    "    master = frame_b, \n",
    "    command = lambda:[on_click(2), change_pic(value)],\n",
    "    text = \"2\",\n",
    "    width=25,\n",
    "    height=5,\n",
    "    foreground=\"white\",\n",
    "    background=\"black\")\n",
    "button_2.grid(row = 0, column=1)\n",
    "\n",
    "button_3 = tk.Button(\n",
    "    master = frame_b, \n",
    "    command = lambda:[on_click(3), change_pic(value)],\n",
    "    text = \"3\",\n",
    "    width=25,\n",
    "    height=5,\n",
    "    foreground=\"white\",\n",
    "    background=\"black\")\n",
    "button_3.grid(row = 0, column=2)\n",
    "\n",
    "frame_b.pack()\n",
    "frame_a.pack()\n",
    "\n",
    "\n",
    "window.mainloop()"
   ]
  },
  {
   "cell_type": "code",
   "execution_count": 5,
   "metadata": {},
   "outputs": [
    {
     "name": "stdout",
     "output_type": "stream",
     "text": [
      "The button was clicked!\n",
      "The button was clicked!\n",
      "The button was clicked!\n",
      "The button was clicked!\n",
      "The button was clicked!\n",
      "The button was clicked!\n",
      "The button was clicked!\n",
      "The button was clicked!\n",
      "The button was clicked!\n",
      "The button was clicked!\n",
      "The button was clicked!\n",
      "The button was clicked!\n",
      "The button was clicked!\n",
      "The button was clicked!\n",
      "The button was clicked!\n",
      "The button was clicked!\n",
      "The button was clicked!\n",
      "The button was clicked!\n",
      "The button was clicked!\n"
     ]
    }
   ],
   "source": [
    "sequence = []\n",
    "\n",
    "window = tk.Tk()\n",
    "\n",
    "def handle_click(event):\n",
    "    sequence.append(\"1\")\n",
    "    print(\"The button was clicked!\")\n",
    "\n",
    "button_1 = tk.Button(text=\"1\")\n",
    "button_1.bind(\"<Button-1>\", handle_click)\n",
    "button_1.pack()\n",
    "\n",
    "window.mainloop()"
   ]
  },
  {
   "cell_type": "code",
   "execution_count": 51,
   "metadata": {},
   "outputs": [
    {
     "data": {
      "text/plain": [
       "[1, 2, 3]"
      ]
     },
     "execution_count": 51,
     "metadata": {},
     "output_type": "execute_result"
    }
   ],
   "source": [
    "sequence"
   ]
  }
 ],
 "metadata": {
  "interpreter": {
   "hash": "043b739e44b678b2d38f271ad8fe81a5dcd0b6ee48d2652805bca88db3e8f16b"
  },
  "kernelspec": {
   "display_name": "Python 3.9.7 ('base')",
   "language": "python",
   "name": "python3"
  },
  "language_info": {
   "codemirror_mode": {
    "name": "ipython",
    "version": 3
   },
   "file_extension": ".py",
   "mimetype": "text/x-python",
   "name": "python",
   "nbconvert_exporter": "python",
   "pygments_lexer": "ipython3",
   "version": "3.9.7"
  },
  "orig_nbformat": 4
 },
 "nbformat": 4,
 "nbformat_minor": 2
}
