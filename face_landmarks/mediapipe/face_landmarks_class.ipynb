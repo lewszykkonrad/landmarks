{
 "cells": [
  {
   "cell_type": "code",
   "execution_count": 1,
   "metadata": {},
   "outputs": [],
   "source": [
    "import cv2\n",
    "import mediapipe as mp\n",
    "mp_drawing = mp.solutions.drawing_utils\n",
    "mp_face_mesh = mp.solutions.face_mesh\n",
    "\n",
    "import pandas as pd\n",
    "import numpy as np\n",
    "\n",
    "import json"
   ]
  },
  {
   "cell_type": "code",
   "execution_count": 3,
   "metadata": {},
   "outputs": [],
   "source": [
    "def face_mesh_processor(image_path):\n",
    "    drawing_spec = mp_drawing.DrawingSpec(thickness=1, circle_radius=1)\n",
    "    with mp_face_mesh.FaceMesh(static_image_mode=True, max_num_faces=1, min_detection_confidence=0.5) as face_mesh:\n",
    "        image = cv2.imread(image_path)\n",
    "            # Convert the RGB image to RGB before processing.\n",
    "        results = face_mesh.process(cv2.cvtColor(image, cv2.COLOR_BGR2RGB))\n",
    "    return results"
   ]
  },
  {
   "cell_type": "code",
   "execution_count": 4,
   "metadata": {},
   "outputs": [],
   "source": [
    "def landmarks_to_dataframe_processor(results):\n",
    "    string = str(results.multi_face_landmarks[0])\n",
    "    string = string.replace('\\nlandmark ', '').replace('\\n  ', '').replace('\\n  ', '').replace('x: ', '').replace('y: ', ', ')\n",
    "    string = string.replace('z: ', ', ').replace('\\n', '').replace('landmark', '').replace(' ', '')\n",
    "    string = string.split('{')[1:]\n",
    "    string = [item.replace('}', '') for item in string]\n",
    "    landmark_list = []\n",
    "    for item in string:\n",
    "        sub_list = item.split(',')\n",
    "        sub_list = [float(x) for x in sub_list]\n",
    "        landmark_list.append(sub_list)\n",
    "    return landmark_list"
   ]
  },
  {
   "cell_type": "code",
   "execution_count": 5,
   "metadata": {},
   "outputs": [],
   "source": [
    "class Face:\n",
    "    def __init__(self, image_path):\n",
    "        #reading image\n",
    "        self.image = cv2.imread(image_path)\n",
    "        #image dimensions\n",
    "        self.height = self.image.shape[0]\n",
    "        self.width = self.image.shape[1]\n",
    "        #creating a facemesh object with ready .multi_face_landmarks attribute with all landmarks\n",
    "        self.face_mesh_object = face_mesh_processor(image_path)\n",
    "        #converting the landmark fromat to a list\n",
    "        self.landmark_list = landmarks_to_dataframe_processor(self.face_mesh_object)\n",
    "        #converting the list to a dataframe\n",
    "        self.dataframe = pd.DataFrame(self.landmark_list).rename(columns = {0:'x', 1:'y', 2:'z'})\n",
    "        \n",
    "        self.dataframe['x'] = self.dataframe['x'] * self.width\n",
    "        self.dataframe['y'] = self.dataframe['y'] * self.height\n",
    "        \n",
    "    def write_landmark(self,landmark_index):\n",
    "        x = int(self.dataframe.iloc[landmark_index].x)\n",
    "        y = int(self.dataframe.iloc[landmark_index].y)\n",
    "        cv2.circle(self.image,(x, y), 3,(0, 255, 0), thickness=1, lineType=cv2.LINE_8 )\n",
    "        cv2.putText(self.image, str(landmark_index) ,org = (x,y), fontFace = cv2.FONT_HERSHEY_SIMPLEX,\n",
    "                   fontScale = 0.5, color = (255,255,255), lineType = 2, thickness = 1)\n",
    "        cv2.imshow(\"image\", self.image)\n",
    "        cv2.waitKey(0)        "
   ]
  }
 ],
 "metadata": {
  "kernelspec": {
   "display_name": "Python 3",
   "language": "python",
   "name": "python3"
  },
  "language_info": {
   "codemirror_mode": {
    "name": "ipython",
    "version": 3
   },
   "file_extension": ".py",
   "mimetype": "text/x-python",
   "name": "python",
   "nbconvert_exporter": "python",
   "pygments_lexer": "ipython3",
   "version": "3.8.5"
  }
 },
 "nbformat": 4,
 "nbformat_minor": 4
}
