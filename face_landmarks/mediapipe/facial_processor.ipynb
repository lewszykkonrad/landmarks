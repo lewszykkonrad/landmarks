{
 "cells": [
  {
   "cell_type": "markdown",
   "metadata": {},
   "source": [
    "### Packages"
   ]
  },
  {
   "cell_type": "code",
   "execution_count": 36,
   "metadata": {},
   "outputs": [],
   "source": [
    "import cv2\n",
    "import mediapipe as mp\n",
    "mp_drawing = mp.solutions.drawing_utils\n",
    "mp_face_mesh = mp.solutions.face_mesh\n",
    "\n",
    "import pandas as pd\n",
    "import numpy as np"
   ]
  },
  {
   "cell_type": "markdown",
   "metadata": {},
   "source": [
    "### Files to process"
   ]
  },
  {
   "cell_type": "code",
   "execution_count": 2,
   "metadata": {},
   "outputs": [],
   "source": [
    "file_list = [\"faces/celebrities/female/attractive/image_5.jpg\",\n",
    "            \"faces/celebrities/female/attractive/image_16.jpg\"]"
   ]
  },
  {
   "cell_type": "markdown",
   "metadata": {},
   "source": [
    "### Function - enumerated landmarks"
   ]
  },
  {
   "cell_type": "code",
   "execution_count": 28,
   "metadata": {},
   "outputs": [],
   "source": [
    "def total_function(picture_address):\n",
    "    \n",
    "    image = cv2.imread(picture_address)\n",
    "    x = image.shape[0]\n",
    "    y = image.shape[1]\n",
    "    \n",
    "    # part 1\n",
    "    drawing_spec = mp_drawing.DrawingSpec(thickness=1, circle_radius=1)\n",
    "    with mp_face_mesh.FaceMesh(\n",
    "    static_image_mode=True,\n",
    "    max_num_faces=1,\n",
    "    min_detection_confidence=0.5) as face_mesh:\n",
    "    \n",
    "        image = cv2.imread(picture_address)\n",
    "        results = face_mesh.process(cv2.cvtColor(image, cv2.COLOR_BGR2RGB))\n",
    "    \n",
    "    # part 2\n",
    "    string = str(results.multi_face_landmarks[0])\n",
    "    string = string.replace('\\nlandmark ', '').replace('\\n  ', '').replace('\\n  ', '').replace('x: ', '').replace('y: ', ', ')\n",
    "    string = string.replace('z: ', ', ').replace('\\n', '').replace('landmark', '').replace(' ', '')\n",
    "    string = string.split('{')[1:]\n",
    "    string = [item.replace('}', '') for item in string]\n",
    "    landmark_list = []\n",
    "    for item in string:\n",
    "        sub_list = item.split(',')\n",
    "        sub_list = [float(x) for x in sub_list]\n",
    "        landmark_list.append(sub_list)\n",
    "        \n",
    "    # part 3 - it works, but for consistency and clarity, fix the 'x' and 'y' confusion\n",
    "    df = pd.DataFrame(np.array(landmark_list))\n",
    "    df = df.rename(columns = {0:'x', 1:'y', 2:'z'})\n",
    "    \n",
    "    df['x'] = df['x']*y\n",
    "    df['y'] = df['y']*x\n",
    "    \n",
    "    df['x'] = df['x'].astype(int)\n",
    "    df['y'] = df['y'].astype(int)\n",
    "    \n",
    "    \n",
    "    # part 4\n",
    "    font = cv2.FONT_HERSHEY_SIMPLEX\n",
    "    org = (236, 135)\n",
    "    fontScale = 0.2\n",
    "    color = (255, 255, 255)\n",
    "    thickness = 1\n",
    "    \n",
    "    index = 1\n",
    "    for x_axis, y_axis in zip(df['x'],df['y']):\n",
    "        cv2.circle(image,(x_axis, y_axis), 1,(255, 255, 255), thickness=1, lineType=cv2.LINE_8 )\n",
    "        cv2.putText(image, str(index), (x_axis, y_axis), font, fontScale, color, thickness, cv2.LINE_AA)\n",
    "        cv2.waitKey(0)\n",
    "        index += 1\n",
    "    \n",
    "    cv2.imwrite('C:\\\\Users\\\\lewsz\\\\OneDrive\\\\Desktop\\\\face_landmarks\\\\TEST_5' + '.png', image)\n",
    "    \n",
    "    return df"
   ]
  },
  {
   "cell_type": "markdown",
   "metadata": {},
   "source": [
    "### Function - regular landmarks"
   ]
  },
  {
   "cell_type": "code",
   "execution_count": 41,
   "metadata": {},
   "outputs": [],
   "source": [
    "def regular_landmarks(file_address):\n",
    "    drawing_spec = mp_drawing.DrawingSpec(thickness=1, circle_radius=1)\n",
    "    with mp_face_mesh.FaceMesh(static_image_mode=True,max_num_faces=1,min_detection_confidence=0.5) as face_mesh:\n",
    "        image = cv2.imread(file_address)\n",
    "        results = face_mesh.process(cv2.cvtColor(image, cv2.COLOR_BGR2RGB))\n",
    "        \n",
    "    annotated_image = image.copy()\n",
    "    for face_landmarks in results.multi_face_landmarks:\n",
    "      mp_drawing.draw_landmarks(image=annotated_image, landmark_list=face_landmarks,\n",
    "          connections=mp_face_mesh.FACE_CONNECTIONS,\n",
    "          landmark_drawing_spec=drawing_spec,\n",
    "          connection_drawing_spec=drawing_spec)\n",
    "    cv2.imwrite('C:\\\\Users\\\\lewsz\\\\OneDrive\\\\Desktop\\\\face_landmarks\\\\landmark_image_1' + \".png\", annotated_image)"
   ]
  },
  {
   "cell_type": "markdown",
   "metadata": {},
   "source": [
    "### testing"
   ]
  },
  {
   "cell_type": "code",
   "execution_count": 29,
   "metadata": {},
   "outputs": [
    {
     "data": {
      "text/html": [
       "<div>\n",
       "<style scoped>\n",
       "    .dataframe tbody tr th:only-of-type {\n",
       "        vertical-align: middle;\n",
       "    }\n",
       "\n",
       "    .dataframe tbody tr th {\n",
       "        vertical-align: top;\n",
       "    }\n",
       "\n",
       "    .dataframe thead th {\n",
       "        text-align: right;\n",
       "    }\n",
       "</style>\n",
       "<table border=\"1\" class=\"dataframe\">\n",
       "  <thead>\n",
       "    <tr style=\"text-align: right;\">\n",
       "      <th></th>\n",
       "      <th>x</th>\n",
       "      <th>y</th>\n",
       "      <th>z</th>\n",
       "    </tr>\n",
       "  </thead>\n",
       "  <tbody>\n",
       "    <tr>\n",
       "      <th>0</th>\n",
       "      <td>252</td>\n",
       "      <td>426</td>\n",
       "      <td>-0.070509</td>\n",
       "    </tr>\n",
       "    <tr>\n",
       "      <th>1</th>\n",
       "      <td>252</td>\n",
       "      <td>378</td>\n",
       "      <td>-0.159374</td>\n",
       "    </tr>\n",
       "    <tr>\n",
       "      <th>2</th>\n",
       "      <td>252</td>\n",
       "      <td>391</td>\n",
       "      <td>-0.074463</td>\n",
       "    </tr>\n",
       "    <tr>\n",
       "      <th>3</th>\n",
       "      <td>240</td>\n",
       "      <td>319</td>\n",
       "      <td>-0.130050</td>\n",
       "    </tr>\n",
       "    <tr>\n",
       "      <th>4</th>\n",
       "      <td>252</td>\n",
       "      <td>362</td>\n",
       "      <td>-0.173274</td>\n",
       "    </tr>\n",
       "    <tr>\n",
       "      <th>...</th>\n",
       "      <td>...</td>\n",
       "      <td>...</td>\n",
       "      <td>...</td>\n",
       "    </tr>\n",
       "    <tr>\n",
       "      <th>463</th>\n",
       "      <td>297</td>\n",
       "      <td>268</td>\n",
       "      <td>-0.004492</td>\n",
       "    </tr>\n",
       "    <tr>\n",
       "      <th>464</th>\n",
       "      <td>288</td>\n",
       "      <td>273</td>\n",
       "      <td>-0.021317</td>\n",
       "    </tr>\n",
       "    <tr>\n",
       "      <th>465</th>\n",
       "      <td>282</td>\n",
       "      <td>276</td>\n",
       "      <td>-0.040682</td>\n",
       "    </tr>\n",
       "    <tr>\n",
       "      <th>466</th>\n",
       "      <td>376</td>\n",
       "      <td>252</td>\n",
       "      <td>0.011350</td>\n",
       "    </tr>\n",
       "    <tr>\n",
       "      <th>467</th>\n",
       "      <td>384</td>\n",
       "      <td>247</td>\n",
       "      <td>0.010523</td>\n",
       "    </tr>\n",
       "  </tbody>\n",
       "</table>\n",
       "<p>468 rows × 3 columns</p>\n",
       "</div>"
      ],
      "text/plain": [
       "       x    y         z\n",
       "0    252  426 -0.070509\n",
       "1    252  378 -0.159374\n",
       "2    252  391 -0.074463\n",
       "3    240  319 -0.130050\n",
       "4    252  362 -0.173274\n",
       "..   ...  ...       ...\n",
       "463  297  268 -0.004492\n",
       "464  288  273 -0.021317\n",
       "465  282  276 -0.040682\n",
       "466  376  252  0.011350\n",
       "467  384  247  0.010523\n",
       "\n",
       "[468 rows x 3 columns]"
      ]
     },
     "execution_count": 29,
     "metadata": {},
     "output_type": "execute_result"
    }
   ],
   "source": [
    "total_function(\"faces/celebrities/female/attractive/image_16.jpg\")"
   ]
  },
  {
   "cell_type": "code",
   "execution_count": 64,
   "metadata": {},
   "outputs": [],
   "source": [
    "regular_landmarks(\"faces/celebrities/female/attractive/image_17.jpg\")"
   ]
  }
 ],
 "metadata": {
  "kernelspec": {
   "display_name": "Python 3",
   "language": "python",
   "name": "python3"
  },
  "language_info": {
   "codemirror_mode": {
    "name": "ipython",
    "version": 3
   },
   "file_extension": ".py",
   "mimetype": "text/x-python",
   "name": "python",
   "nbconvert_exporter": "python",
   "pygments_lexer": "ipython3",
   "version": "3.8.5"
  }
 },
 "nbformat": 4,
 "nbformat_minor": 4
}
