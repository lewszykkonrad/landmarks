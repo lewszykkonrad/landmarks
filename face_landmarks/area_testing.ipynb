{
 "cells": [
  {
   "cell_type": "code",
   "execution_count": 39,
   "metadata": {},
   "outputs": [],
   "source": [
    "import numpy as np\n",
    "import pandas as pd\n",
    "import random\n",
    "import cv2\n",
    "import tkinter as tk\n",
    "from PIL import Image, ImageTk\n",
    "import matplotlib.pyplot as plt\n",
    "import re\n",
    "import os\n",
    "import dlib_functions\n",
    "from math import *\n",
    "import dlib\n",
    "from scipy.spatial import distance\n",
    "from imutils import face_utils"
   ]
  },
  {
   "cell_type": "code",
   "execution_count": 6,
   "metadata": {},
   "outputs": [],
   "source": [
    "def Area(corners):\n",
    "    n = len(corners) # of corners\n",
    "    area = 0.0\n",
    "    for i in range(n):\n",
    "        j = (i + 1) % n\n",
    "        area += corners[i][0] * corners[j][1]\n",
    "        area -= corners[j][0] * corners[i][1]\n",
    "    area = abs(area) / 2.0\n",
    "    return area"
   ]
  },
  {
   "cell_type": "code",
   "execution_count": 52,
   "metadata": {},
   "outputs": [
    {
     "name": "stdout",
     "output_type": "stream",
     "text": [
      "         s1        s2        a1        a2        a3        a4        a5  \\\n",
      "0  1.011313  0.982785  0.449934  0.558759  0.027131  0.037444  1.241869   \n",
      "\n",
      "         a6        a7        a8  ...       d11       d12       d13       d14  \\\n",
      "0  0.060299  0.253543  0.048555  ...  0.088114  1.588674  0.816601  1.806664   \n",
      "\n",
      "        d15       d16       d17       da1      da2       da3  \n",
      "0  2.132159  1.992539  1.828416  0.129762  40.3274  0.012074  \n",
      "\n",
      "[1 rows x 45 columns]\n"
     ]
    }
   ],
   "source": [
    "detector = dlib.get_frontal_face_detector()\n",
    "predictor = dlib.shape_predictor(\"C:/Users/lewsz/OneDrive/Desktop/master_thesis/shape_predictor_68_face_landmarks.dat\")\n",
    "\n",
    "path = \"../../faces/high_quality_dataset/total_dataset/image_151.jpg\"\n",
    "colnames = ['s1', 's2', 'a1', 'a2', 'a3', 'a4', 'a5', 'a6', 'a7', 'a8', 'a9',\n",
    "                'a10', 'a11', 'a12', 'a13', 'a14', 'a15', 'a16', 'a17', 'a18', 'a19',\n",
    "                'a20', 'a21', 'a22', 'a23','d1', 'd2', 'd3', 'd4', 'd5', 'd6', 'd7', 'd8', 'd9',\n",
    "                'd10', 'd11', 'd12', 'd13', 'd14', 'd15', 'd16', 'd17','da1', 'da2', 'da3']\n",
    "final_dataset = pd.DataFrame(columns = colnames)\n",
    "\n",
    "image = cv2.imread(path)\n",
    "image = cv2.cvtColor(image, cv2.COLOR_BGR2RGB)\n",
    "image = cv2.resize(image, (400,500))\n",
    "\n",
    "rects = detector(image, 1)\n",
    "\n",
    "for (i, rect) in enumerate(rects):\n",
    "\n",
    "    shape = predictor(image, rect)\n",
    "    shape = face_utils.shape_to_np(shape)\n",
    "shape = shape.tolist()\n",
    "\n",
    "parameters = dlib_functions.parameter_processor(shape)\n",
    "\n",
    "final_dataset = final_dataset.append(parameters, ignore_index=True)\n",
    "print(final_dataset)"
   ]
  },
  {
   "cell_type": "code",
   "execution_count": 53,
   "metadata": {},
   "outputs": [],
   "source": [
    "right_vision_points = [shape[22], shape[23], shape[24], shape[25], shape[26], \n",
    "                           shape[45], shape[46], shape[47], shape[42]]\n",
    "right_vision_points = [tuple(x) for x in right_vision_points]\n",
    "right_vision_area = Area(right_vision_points)\n",
    "\n",
    "left_vision_points = [shape[17], shape[18], shape[19], shape[20], shape[21], \n",
    "                           shape[39], shape[40], shape[41], shape[36]]\n",
    "left_vision_points = [tuple(x) for x in left_vision_points]\n",
    "left_vision_area = Area(left_vision_points)\n",
    "\n",
    "face_width_at_top = distance.euclidean(shape[1], shape[15])\n",
    "\n",
    "image = cv2.imread(path)\n",
    "\n",
    "image_height = image.shape[0]\n",
    "image_width = image.shape[1]"
   ]
  },
  {
   "cell_type": "code",
   "execution_count": 54,
   "metadata": {},
   "outputs": [
    {
     "name": "stdout",
     "output_type": "stream",
     "text": [
      "6711.5\n",
      "6314.5\n",
      "323.0061918911153\n",
      "----\n",
      "6.284176029962547\n",
      "0.302440254579696\n",
      "----\n",
      "variable:  40.32740030070704\n"
     ]
    }
   ],
   "source": [
    "print(right_vision_area)\n",
    "print(left_vision_area)\n",
    "print(face_width_at_top)\n",
    "print(\"----\")\n",
    "print(right_vision_area / image_width)\n",
    "print(face_width_at_top / image_width)\n",
    "print(\"----\")\n",
    "print(\"variable: \", (right_vision_area + left_vision_area) / face_width_at_top)"
   ]
  },
  {
   "cell_type": "code",
   "execution_count": 55,
   "metadata": {},
   "outputs": [
    {
     "data": {
      "text/plain": [
       "(1230, 1068, 3)"
      ]
     },
     "execution_count": 55,
     "metadata": {},
     "output_type": "execute_result"
    }
   ],
   "source": [
    "image.shape"
   ]
  }
 ],
 "metadata": {
  "kernelspec": {
   "display_name": "Python 3.9.7 ('base')",
   "language": "python",
   "name": "python3"
  },
  "language_info": {
   "codemirror_mode": {
    "name": "ipython",
    "version": 3
   },
   "file_extension": ".py",
   "mimetype": "text/x-python",
   "name": "python",
   "nbconvert_exporter": "python",
   "pygments_lexer": "ipython3",
   "version": "3.9.7"
  },
  "orig_nbformat": 4,
  "vscode": {
   "interpreter": {
    "hash": "043b739e44b678b2d38f271ad8fe81a5dcd0b6ee48d2652805bca88db3e8f16b"
   }
  }
 },
 "nbformat": 4,
 "nbformat_minor": 2
}
