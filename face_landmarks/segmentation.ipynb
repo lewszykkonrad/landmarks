{
 "cells": [
  {
   "cell_type": "code",
   "execution_count": 5,
   "metadata": {},
   "outputs": [
    {
     "name": "stdout",
     "output_type": "stream",
     "text": [
      "Collecting resnetNote: you may need to restart the kernel to use updated packages.\n",
      "  Downloading resnet-0.1.tar.gz (5.8 kB)\n",
      "Requirement already satisfied: keras>=2.0 in c:\\users\\lewsz\\anaconda3\\lib\\site-packages (from resnet) (2.2.4)\n",
      "Requirement already satisfied: h5py in c:\\users\\lewsz\\anaconda3\\lib\\site-packages (from keras>=2.0->resnet) (3.1.0)\n",
      "Requirement already satisfied: keras-applications>=1.0.6 in c:\\users\\lewsz\\anaconda3\\lib\\site-packages (from keras>=2.0->resnet) (1.0.8)\n",
      "Requirement already satisfied: six>=1.9.0 in c:\\users\\lewsz\\anaconda3\\lib\\site-packages (from keras>=2.0->resnet) (1.15.0)\n",
      "Requirement already satisfied: scipy>=0.14 in c:\\users\\lewsz\\anaconda3\\lib\\site-packages (from keras>=2.0->resnet) (1.5.2)\n",
      "Requirement already satisfied: keras-preprocessing>=1.0.5 in c:\\users\\lewsz\\anaconda3\\lib\\site-packages (from keras>=2.0->resnet) (1.1.2)\n",
      "Requirement already satisfied: numpy>=1.9.1 in c:\\users\\lewsz\\anaconda3\\lib\\site-packages (from keras>=2.0->resnet) (1.19.2)\n",
      "Requirement already satisfied: pyyaml in c:\\users\\lewsz\\anaconda3\\lib\\site-packages (from keras>=2.0->resnet) (5.3.1)\n",
      "Building wheels for collected packages: resnet\n",
      "  Building wheel for resnet (setup.py): started\n",
      "  Building wheel for resnet (setup.py): finished with status 'done'\n",
      "  Created wheel for resnet: filename=resnet-0.1-py3-none-any.whl size=10046 sha256=414c1c235379cfe419b90537ca57b7b5e5a52db516b16fe4b8a2c6f2aa66c513\n",
      "  Stored in directory: c:\\users\\lewsz\\appdata\\local\\pip\\cache\\wheels\\3c\\db\\ed\\d285a3be8fa331aca2474dbd87b0e6c2ce5a9060f836723464\n",
      "Successfully built resnet\n",
      "Installing collected packages: resnet\n",
      "Successfully installed resnet-0.1\n",
      "\n"
     ]
    }
   ],
   "source": [
    "pip install resnet"
   ]
  },
  {
   "cell_type": "code",
   "execution_count": 4,
   "metadata": {},
   "outputs": [
    {
     "ename": "ModuleNotFoundError",
     "evalue": "No module named 'facetools'",
     "output_type": "error",
     "traceback": [
      "\u001b[1;31m---------------------------------------------------------------------------\u001b[0m",
      "\u001b[1;31mModuleNotFoundError\u001b[0m                       Traceback (most recent call last)",
      "\u001b[1;32m<ipython-input-4-25be805683a3>\u001b[0m in \u001b[0;36m<module>\u001b[1;34m\u001b[0m\n\u001b[1;32m----> 1\u001b[1;33m \u001b[1;32mfrom\u001b[0m \u001b[0mfacetools\u001b[0m \u001b[1;32mimport\u001b[0m \u001b[0mdetect_faces\u001b[0m\u001b[1;33m,\u001b[0m \u001b[0mshow_results\u001b[0m\u001b[1;33m\u001b[0m\u001b[1;33m\u001b[0m\u001b[0m\n\u001b[0m\u001b[0;32m      2\u001b[0m \u001b[1;32mfrom\u001b[0m \u001b[0mPIL\u001b[0m \u001b[1;32mimport\u001b[0m \u001b[0mImage\u001b[0m\u001b[1;33m\u001b[0m\u001b[1;33m\u001b[0m\u001b[0m\n\u001b[0;32m      3\u001b[0m \u001b[1;33m\u001b[0m\u001b[0m\n\u001b[0;32m      4\u001b[0m \u001b[1;32mdef\u001b[0m \u001b[0mfoo\u001b[0m\u001b[1;33m(\u001b[0m\u001b[1;33m)\u001b[0m\u001b[1;33m:\u001b[0m\u001b[1;33m\u001b[0m\u001b[1;33m\u001b[0m\u001b[0m\n\u001b[0;32m      5\u001b[0m     \u001b[0mimg\u001b[0m \u001b[1;33m=\u001b[0m \u001b[0mImage\u001b[0m\u001b[1;33m.\u001b[0m\u001b[0mopen\u001b[0m\u001b[1;33m(\u001b[0m\u001b[1;34m'/path/to/your/image'\u001b[0m\u001b[1;33m)\u001b[0m\u001b[1;33m\u001b[0m\u001b[1;33m\u001b[0m\u001b[0m\n",
      "\u001b[1;31mModuleNotFoundError\u001b[0m: No module named 'facetools'"
     ]
    }
   ],
   "source": [
    "from facetools import detect_faces, show_results\n",
    "from PIL import Image\n",
    "\n",
    "def foo():\n",
    "    img = Image.open('/path/to/your/image') \n",
    "    bounding_boxes, landmarks = detect_faces(img) \n",
    "    show_results(img, bounding_boxes, landmarks) "
   ]
  },
  {
   "cell_type": "code",
   "execution_count": 3,
   "metadata": {},
   "outputs": [
    {
     "ename": "ModuleNotFoundError",
     "evalue": "No module named 'parsing'",
     "output_type": "error",
     "traceback": [
      "\u001b[1;31m---------------------------------------------------------------------------\u001b[0m",
      "\u001b[1;31mModuleNotFoundError\u001b[0m                       Traceback (most recent call last)",
      "\u001b[1;32m<ipython-input-3-9c678ab52ea5>\u001b[0m in \u001b[0;36m<module>\u001b[1;34m\u001b[0m\n\u001b[0;32m      1\u001b[0m \u001b[1;32mfrom\u001b[0m \u001b[0mPIL\u001b[0m \u001b[1;32mimport\u001b[0m \u001b[0mImage\u001b[0m\u001b[1;33m\u001b[0m\u001b[1;33m\u001b[0m\u001b[0m\n\u001b[1;32m----> 2\u001b[1;33m \u001b[1;32mfrom\u001b[0m \u001b[0mparsing\u001b[0m\u001b[1;33m.\u001b[0m\u001b[0mface_parsing\u001b[0m \u001b[1;32mimport\u001b[0m \u001b[0mparsing\u001b[0m\u001b[1;33m,\u001b[0m \u001b[0mvis_parsing_maps\u001b[0m\u001b[1;33m\u001b[0m\u001b[1;33m\u001b[0m\u001b[0m\n\u001b[0m",
      "\u001b[1;31mModuleNotFoundError\u001b[0m: No module named 'parsing'"
     ]
    }
   ],
   "source": [
    "from PIL import Image\n",
    "from parsing.face_parsing import parsing, vis_parsing_maps"
   ]
  },
  {
   "cell_type": "code",
   "execution_count": 36,
   "metadata": {},
   "outputs": [
    {
     "ename": "ModuleNotFoundError",
     "evalue": "No module named 'keras.models.detector'; 'keras.models' is not a package",
     "output_type": "error",
     "traceback": [
      "\u001b[1;31m---------------------------------------------------------------------------\u001b[0m",
      "\u001b[1;31mModuleNotFoundError\u001b[0m                       Traceback (most recent call last)",
      "\u001b[1;32m<ipython-input-36-869f766dd4c1>\u001b[0m in \u001b[0;36m<module>\u001b[1;34m\u001b[0m\n\u001b[1;32m----> 1\u001b[1;33m \u001b[1;32mfrom\u001b[0m \u001b[0mkeras\u001b[0m\u001b[1;33m.\u001b[0m\u001b[0mmodels\u001b[0m\u001b[1;33m.\u001b[0m\u001b[0mdetector\u001b[0m \u001b[1;32mimport\u001b[0m \u001b[0mface_detector\u001b[0m\u001b[1;33m\u001b[0m\u001b[1;33m\u001b[0m\u001b[0m\n\u001b[0m",
      "\u001b[1;31mModuleNotFoundError\u001b[0m: No module named 'keras.models.detector'; 'keras.models' is not a package"
     ]
    }
   ],
   "source": [
    "from models.detector import face_detector"
   ]
  },
  {
   "cell_type": "code",
   "execution_count": 37,
   "metadata": {},
   "outputs": [],
   "source": [
    "models?"
   ]
  },
  {
   "cell_type": "code",
   "execution_count": 19,
   "metadata": {},
   "outputs": [
    {
     "ename": "ModuleNotFoundError",
     "evalue": "No module named 'models'",
     "output_type": "error",
     "traceback": [
      "\u001b[1;31m---------------------------------------------------------------------------\u001b[0m",
      "\u001b[1;31mModuleNotFoundError\u001b[0m                       Traceback (most recent call last)",
      "\u001b[1;32m<ipython-input-19-9ab2fda4397b>\u001b[0m in \u001b[0;36m<module>\u001b[1;34m\u001b[0m\n\u001b[1;32m----> 1\u001b[1;33m \u001b[1;32mimport\u001b[0m \u001b[0mmodels\u001b[0m\u001b[1;33m\u001b[0m\u001b[1;33m\u001b[0m\u001b[0m\n\u001b[0m",
      "\u001b[1;31mModuleNotFoundError\u001b[0m: No module named 'models'"
     ]
    }
   ],
   "source": [
    "import models"
   ]
  },
  {
   "cell_type": "code",
   "execution_count": null,
   "metadata": {},
   "outputs": [],
   "source": [
    "im = cv2.imread(PATH_TO_IMAGE)[..., ::-1]\n",
    "fp = face_parser.FaceParser()\n",
    "# fp.set_detector(fd) # fd = face_detector.FaceAlignmentDetector()\n",
    "parsing_map = fp.parse_face(im, bounding_box=None, with_detection=False)"
   ]
  }
 ],
 "metadata": {
  "kernelspec": {
   "display_name": "Python 3",
   "language": "python",
   "name": "python3"
  },
  "language_info": {
   "codemirror_mode": {
    "name": "ipython",
    "version": 3
   },
   "file_extension": ".py",
   "mimetype": "text/x-python",
   "name": "python",
   "nbconvert_exporter": "python",
   "pygments_lexer": "ipython3",
   "version": "3.8.5"
  }
 },
 "nbformat": 4,
 "nbformat_minor": 4
}
