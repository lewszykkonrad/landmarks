{
 "cells": [
  {
   "cell_type": "code",
   "execution_count": 2,
   "metadata": {},
   "outputs": [],
   "source": [
    "import numpy as np\n",
    "import pandas as pd\n",
    "import random\n",
    "import tkinter as tk"
   ]
  },
  {
   "cell_type": "code",
   "execution_count": 4,
   "metadata": {},
   "outputs": [
    {
     "data": {
      "text/plain": [
       "[3, 5]"
      ]
     },
     "execution_count": 4,
     "metadata": {},
     "output_type": "execute_result"
    }
   ],
   "source": [
    "sequence = [1,2,3,4,5]\n",
    "random.sample(sequence, 2)"
   ]
  },
  {
   "cell_type": "code",
   "execution_count": 13,
   "metadata": {},
   "outputs": [
    {
     "name": "stdout",
     "output_type": "stream",
     "text": [
      "['the book', 'the lion', 'the sahara']\n"
     ]
    }
   ],
   "source": [
    "sequence = [\"book\", \"lion\", \"sahara\"]\n",
    "sequence = [\"the \" + x for x in sequence] \n",
    "print(sequence)"
   ]
  },
  {
   "cell_type": "code",
   "execution_count": 7,
   "metadata": {},
   "outputs": [],
   "source": [
    "sequence = []\n",
    "\n",
    "window = tk.Tk()\n",
    "\n",
    "frame_a = tk.Frame()\n",
    "frame_b = tk.Frame()\n",
    "\n",
    "def on_click(value):\n",
    "    sequence.append(value)\n",
    "\n",
    "picture_placeholder = tk.Label(\n",
    "    master = frame_a,\n",
    "    text = \"Picture\",\n",
    "    foreground= \"white\",\n",
    "    background=\"black\",\n",
    "    width= 75,\n",
    "    height= 25)\n",
    "picture_placeholder.pack()\n",
    "\n",
    "button_1 = tk.Button(\n",
    "    master = frame_b, \n",
    "    command = lambda:on_click(1),\n",
    "    text = \"1\",\n",
    "    width=25,\n",
    "    height=5,\n",
    "    foreground=\"white\",\n",
    "    background=\"black\")\n",
    "button_1.grid(row = 0, column=0)\n",
    "\n",
    "button_2 = tk.Button(\n",
    "    master = frame_b, \n",
    "    command = lambda:on_click(2),\n",
    "    text = \"2\",\n",
    "    width=25,\n",
    "    height=5,\n",
    "    foreground=\"white\",\n",
    "    background=\"black\")\n",
    "button_2.grid(row = 0, column=1)\n",
    "\n",
    "button_3 = tk.Button(\n",
    "    master = frame_b, \n",
    "    command = lambda:on_click(3),\n",
    "    text = \"3\",\n",
    "    width=25,\n",
    "    height=5,\n",
    "    foreground=\"white\",\n",
    "    background=\"black\")\n",
    "button_3.grid(row = 0, column=2)\n",
    "\n",
    "frame_a.pack()\n",
    "frame_b.pack()\n",
    "\n",
    "window.mainloop()"
   ]
  },
  {
   "cell_type": "code",
   "execution_count": 5,
   "metadata": {},
   "outputs": [
    {
     "name": "stdout",
     "output_type": "stream",
     "text": [
      "The button was clicked!\n",
      "The button was clicked!\n",
      "The button was clicked!\n",
      "The button was clicked!\n",
      "The button was clicked!\n",
      "The button was clicked!\n",
      "The button was clicked!\n",
      "The button was clicked!\n",
      "The button was clicked!\n",
      "The button was clicked!\n",
      "The button was clicked!\n",
      "The button was clicked!\n",
      "The button was clicked!\n",
      "The button was clicked!\n",
      "The button was clicked!\n",
      "The button was clicked!\n",
      "The button was clicked!\n",
      "The button was clicked!\n",
      "The button was clicked!\n"
     ]
    }
   ],
   "source": [
    "sequence = []\n",
    "\n",
    "window = tk.Tk()\n",
    "\n",
    "def handle_click(event):\n",
    "    sequence.append(\"1\")\n",
    "    print(\"The button was clicked!\")\n",
    "\n",
    "button_1 = tk.Button(text=\"1\")\n",
    "button_1.bind(\"<Button-1>\", handle_click)\n",
    "button_1.pack()\n",
    "\n",
    "window.mainloop()"
   ]
  },
  {
   "cell_type": "code",
   "execution_count": 8,
   "metadata": {},
   "outputs": [
    {
     "data": {
      "text/plain": [
       "[1, 2, 2, 2, 3, 1, 2, 3, 2, 3, 2, 3, 1]"
      ]
     },
     "execution_count": 8,
     "metadata": {},
     "output_type": "execute_result"
    }
   ],
   "source": [
    "sequence"
   ]
  }
 ],
 "metadata": {
  "interpreter": {
   "hash": "043b739e44b678b2d38f271ad8fe81a5dcd0b6ee48d2652805bca88db3e8f16b"
  },
  "kernelspec": {
   "display_name": "Python 3.9.7 ('base')",
   "language": "python",
   "name": "python3"
  },
  "language_info": {
   "codemirror_mode": {
    "name": "ipython",
    "version": 3
   },
   "file_extension": ".py",
   "mimetype": "text/x-python",
   "name": "python",
   "nbconvert_exporter": "python",
   "pygments_lexer": "ipython3",
   "version": "3.9.7"
  },
  "orig_nbformat": 4
 },
 "nbformat": 4,
 "nbformat_minor": 2
}
