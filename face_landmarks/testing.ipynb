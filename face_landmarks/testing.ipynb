{
 "cells": [
  {
   "cell_type": "code",
   "execution_count": 15,
   "metadata": {},
   "outputs": [],
   "source": [
    "import numpy as np\n",
    "import pandas as pd\n",
    "import random\n",
    "import tkinter as tk\n",
    "from PIL import Image, ImageTk"
   ]
  },
  {
   "cell_type": "code",
   "execution_count": 63,
   "metadata": {},
   "outputs": [
    {
     "data": {
      "text/plain": [
       "[1, 3]"
      ]
     },
     "execution_count": 63,
     "metadata": {},
     "output_type": "execute_result"
    }
   ],
   "source": [
    "sequence = [1,2,3,4,5]\n",
    "random.sample(sequence, 2)"
   ]
  },
  {
   "cell_type": "code",
   "execution_count": 13,
   "metadata": {},
   "outputs": [
    {
     "name": "stdout",
     "output_type": "stream",
     "text": [
      "['the book', 'the lion', 'the sahara']\n"
     ]
    }
   ],
   "source": [
    "sequence = [\"book\", \"lion\", \"sahara\"]\n",
    "sequence = [\"the \" + x for x in sequence] \n",
    "print(sequence)"
   ]
  },
  {
   "cell_type": "code",
   "execution_count": 71,
   "metadata": {},
   "outputs": [
    {
     "name": "stdout",
     "output_type": "stream",
     "text": [
      "updated\n",
      "updated\n",
      "updated\n",
      "updated\n",
      "updated\n",
      "updated\n",
      "updated\n",
      "updated\n",
      "updated\n",
      "updated\n"
     ]
    }
   ],
   "source": [
    "#list for storing the ratings user has given\n",
    "sequence = []\n",
    "\n",
    "#a variable used for iteration through different images that will be updated with every click\n",
    "value = 0\n",
    "\n",
    "choices = random.sample(os.listdir(\"../../faces/high_quality_dataset/hot\"), 10)\n",
    "choices = [\"../../faces/high_quality_dataset/hot/\" + choice for choice in choices]\n",
    "\n",
    "images = [Image.open(x) for x in choices]\n",
    "images = [x.resize((400,500)) for x in images]\n",
    "\n",
    "window = tk.Tk()\n",
    "value = 0\n",
    "\n",
    "test_image = ImageTk.PhotoImage(images.pop())\n",
    "\n",
    "frame_a = tk.Frame()\n",
    "frame_b = tk.Frame()\n",
    "\n",
    "def on_click(value):\n",
    "    sequence.append(value)\n",
    "\n",
    "def change_pic():\n",
    "    if len(images) == 0:\n",
    "        window.destroy()\n",
    "    else:\n",
    "        photo = ImageTk.PhotoImage(images.pop())\n",
    "        picture_placeholder.configure(image=photo)\n",
    "        picture_placeholder.image = photo \n",
    "    print(\"updated\")\n",
    "\n",
    "picture_placeholder = tk.Label(\n",
    "    master = frame_a,\n",
    "    image = test_image,\n",
    "    text = \"Picture\",\n",
    "    foreground= \"white\",\n",
    "    background=\"black\"\n",
    "    )\n",
    "picture_placeholder.pack()\n",
    "\n",
    "button_1 = tk.Button(\n",
    "    master = frame_b, \n",
    "    command = lambda: [on_click(1), change_pic()],\n",
    "    text = \"1\",\n",
    "    width=25,\n",
    "    height=5,\n",
    "    foreground=\"white\",\n",
    "    background=\"black\")\n",
    "button_1.grid(row = 0, column=0)\n",
    "\n",
    "button_2 = tk.Button(\n",
    "    master = frame_b, \n",
    "    command = lambda: [on_click(2), change_pic()],\n",
    "    text = \"2\",\n",
    "    width=25,\n",
    "    height=5,\n",
    "    foreground=\"white\",\n",
    "    background=\"black\")\n",
    "button_2.grid(row = 0, column=1)\n",
    "\n",
    "button_3 = tk.Button(\n",
    "    master = frame_b, \n",
    "    command = lambda: [on_click(3), change_pic()],\n",
    "    text = \"3\",\n",
    "    width=25,\n",
    "    height=5,\n",
    "    foreground=\"white\",\n",
    "    background=\"black\")\n",
    "button_3.grid(row = 0, column=2)\n",
    "\n",
    "frame_b.pack()\n",
    "frame_a.pack()\n",
    "\n",
    "window.mainloop()"
   ]
  },
  {
   "cell_type": "code",
   "execution_count": 66,
   "metadata": {},
   "outputs": [],
   "source": [
    "sequence = []\n",
    "\n",
    "window = tk.Tk()\n",
    "\n",
    "def handle_click(event):\n",
    "    sequence.append(\"1\")\n",
    "    print(\"The button was clicked!\")\n",
    "\n",
    "button_1 = tk.Button(text=\"1\")\n",
    "button_1.bind(\"<Button-1>\", handle_click)\n",
    "button_1.pack()\n",
    "\n",
    "window.mainloop()"
   ]
  },
  {
   "cell_type": "code",
   "execution_count": 67,
   "metadata": {},
   "outputs": [
    {
     "data": {
      "text/plain": [
       "[]"
      ]
     },
     "execution_count": 67,
     "metadata": {},
     "output_type": "execute_result"
    }
   ],
   "source": [
    "sequence"
   ]
  }
 ],
 "metadata": {
  "interpreter": {
   "hash": "043b739e44b678b2d38f271ad8fe81a5dcd0b6ee48d2652805bca88db3e8f16b"
  },
  "kernelspec": {
   "display_name": "Python 3.9.7 ('base')",
   "language": "python",
   "name": "python3"
  },
  "language_info": {
   "codemirror_mode": {
    "name": "ipython",
    "version": 3
   },
   "file_extension": ".py",
   "mimetype": "text/x-python",
   "name": "python",
   "nbconvert_exporter": "python",
   "pygments_lexer": "ipython3",
   "version": "3.9.7"
  },
  "orig_nbformat": 4
 },
 "nbformat": 4,
 "nbformat_minor": 2
}
