{
 "cells": [
  {
   "cell_type": "code",
   "execution_count": 30,
   "metadata": {},
   "outputs": [],
   "source": [
    "import cv2\n",
    "import mediapipe as mp\n",
    "mp_drawing = mp.solutions.drawing_utils\n",
    "mp_face_mesh = mp.solutions.face_mesh\n",
    "\n",
    "import pandas as pd\n",
    "import numpy as np"
   ]
  },
  {
   "cell_type": "code",
   "execution_count": 31,
   "metadata": {},
   "outputs": [],
   "source": [
    "file_list = [\"faces/non_celebrities/female/attractive/image_1.jpg\",\n",
    "            \"faces/non_celebrities/female/attractive/image_2.jpg\"]"
   ]
  },
  {
   "cell_type": "code",
   "execution_count": 32,
   "metadata": {},
   "outputs": [],
   "source": [
    "def face_mesh_processor(image_path):\n",
    "    drawing_spec = mp_drawing.DrawingSpec(thickness=1, circle_radius=1)\n",
    "    with mp_face_mesh.FaceMesh(\n",
    "        static_image_mode=True,\n",
    "        max_num_faces=1,\n",
    "        min_detection_confidence=0.5) as face_mesh:\n",
    "        image = cv2.imread(image_path)\n",
    "        # Convert the BGR image to RGB before processing.\n",
    "        results = face_mesh.process(cv2.cvtColor(image, cv2.COLOR_BGR2RGB))\n",
    "        return results"
   ]
  },
  {
   "cell_type": "code",
   "execution_count": 33,
   "metadata": {},
   "outputs": [],
   "source": [
    "results_1 = face_mesh_processor(\"faces/non_celebrities/female/attractive/image_1.jpg\")\n",
    "results_2 = face_mesh_processor(\"faces/non_celebrities/female/attractive/image_2.jpg\")"
   ]
  },
  {
   "cell_type": "code",
   "execution_count": 37,
   "metadata": {},
   "outputs": [],
   "source": [
    "def landmark_processor(results):\n",
    "    string = str(results.multi_face_landmarks[0])\n",
    "    string = string.replace('\\nlandmark ', '').replace('\\n  ', '').replace('\\n  ', '').replace('x: ', '').replace('y: ', ', ')\n",
    "    string = string.replace('z: ', ', ').replace('\\n', '').replace('landmark', '').replace(' ', '')\n",
    "    string = string.split('{')[1:]\n",
    "    string = [item.replace('}', '') for item in string]\n",
    "    landmark_list = []\n",
    "    for item in string:\n",
    "        sub_list = item.split(',')\n",
    "        sub_list = [float(x) for x in sub_list]\n",
    "        landmark_list.append(sub_list)\n",
    "    df = pd.DataFrame(landmark_list).rename(columns = {0:'x', 1:'y', 2:'z'})\n",
    "    df['x'] = df['x'].astype(int)\n",
    "    df['y'] = df['y'].astype(int)\n",
    "    return df"
   ]
  },
  {
   "cell_type": "code",
   "execution_count": 38,
   "metadata": {},
   "outputs": [
    {
     "data": {
      "text/plain": [
       "((468, 3), (468, 3))"
      ]
     },
     "execution_count": 38,
     "metadata": {},
     "output_type": "execute_result"
    }
   ],
   "source": [
    "df_1 = landmark_processor(results_1)\n",
    "df_2 = landmark_processor(results_2)\n",
    "df_1.shape, df_2.shape"
   ]
  },
  {
   "cell_type": "code",
   "execution_count": 41,
   "metadata": {},
   "outputs": [],
   "source": [
    "def landmark_projector(landmarks, image_path):\n",
    "    index = 0\n",
    "    for x_axis, y_axis in zip(landmarks['x'], landmarks['y']):\n",
    "        image = cv2.imread(image_path)\n",
    "        cv2.circle(image,(x_axis, y_axis), 3,(0, 255, 0), thickness=2, lineType=cv2.LINE_8 )\n",
    "        cv2.imshow(\"landmark_\" + str(index), image)\n",
    "        cv2.waitKey(0)\n",
    "        index += 1"
   ]
  },
  {
   "cell_type": "code",
   "execution_count": null,
   "metadata": {},
   "outputs": [],
   "source": [
    "landmark_projector(df_2, \"faces/non_celebrities/female/attractive/image_2.jpg\")"
   ]
  }
 ],
 "metadata": {
  "kernelspec": {
   "display_name": "Python 3",
   "language": "python",
   "name": "python3"
  },
  "language_info": {
   "codemirror_mode": {
    "name": "ipython",
    "version": 3
   },
   "file_extension": ".py",
   "mimetype": "text/x-python",
   "name": "python",
   "nbconvert_exporter": "python",
   "pygments_lexer": "ipython3",
   "version": "3.8.5"
  }
 },
 "nbformat": 4,
 "nbformat_minor": 4
}
